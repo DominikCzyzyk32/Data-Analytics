{
 "cells": [
  {
   "attachments": {},
   "cell_type": "markdown",
   "metadata": {},
   "source": [
    "## Lab 6 - Model comparison\n",
    "<br>\n",
    "Dominik Czyżyk<br>\n",
    "401858<br>\n",
    "czwartek, 9:30"
   ]
  },
  {
   "cell_type": "code",
   "execution_count": 1,
   "metadata": {},
   "outputs": [
    {
     "name": "stderr",
     "output_type": "stream",
     "text": [
      "/usr/local/lib/python3.9/site-packages/tqdm/auto.py:22: TqdmWarning: IProgress not found. Please update jupyter and ipywidgets. See https://ipywidgets.readthedocs.io/en/stable/user_install.html\n",
      "  from .autonotebook import tqdm as notebook_tqdm\n"
     ]
    }
   ],
   "source": [
    "from cmdstanpy import CmdStanModel\n",
    "\n",
    "import arviz as az\n",
    "import numpy as np\n",
    "import scipy.stats as stats\n",
    "\n",
    "import matplotlib.pyplot as plt\n",
    "import pandas as pd"
   ]
  },
  {
   "attachments": {},
   "cell_type": "markdown",
   "metadata": {},
   "source": [
    "### Generate data"
   ]
  },
  {
   "cell_type": "code",
   "execution_count": 2,
   "metadata": {},
   "outputs": [
    {
     "name": "stderr",
     "output_type": "stream",
     "text": [
      "INFO:cmdstanpy:found newer exe file, not recompiling\n",
      "INFO:cmdstanpy:CmdStan start processing\n",
      "chain 1 |\u001b[34m██████████\u001b[0m| 00:00 Sampling completed"
     ]
    },
    {
     "name": "stdout",
     "output_type": "stream",
     "text": [
      "                                                                                "
     ]
    },
    {
     "name": "stderr",
     "output_type": "stream",
     "text": [
      "\n",
      "INFO:cmdstanpy:CmdStan done processing.\n"
     ]
    },
    {
     "name": "stdout",
     "output_type": "stream",
     "text": [
      "\n"
     ]
    },
    {
     "data": {
      "text/html": [
       "<div>\n",
       "<style scoped>\n",
       "    .dataframe tbody tr th:only-of-type {\n",
       "        vertical-align: middle;\n",
       "    }\n",
       "\n",
       "    .dataframe tbody tr th {\n",
       "        vertical-align: top;\n",
       "    }\n",
       "\n",
       "    .dataframe thead th {\n",
       "        text-align: right;\n",
       "    }\n",
       "</style>\n",
       "<table border=\"1\" class=\"dataframe\">\n",
       "  <thead>\n",
       "    <tr style=\"text-align: right;\">\n",
       "      <th></th>\n",
       "      <th>y[1]</th>\n",
       "      <th>y[2]</th>\n",
       "      <th>y[3]</th>\n",
       "      <th>y[4]</th>\n",
       "      <th>y[5]</th>\n",
       "      <th>y[6]</th>\n",
       "      <th>y[7]</th>\n",
       "      <th>y[8]</th>\n",
       "      <th>y[9]</th>\n",
       "      <th>y[10]</th>\n",
       "      <th>...</th>\n",
       "      <th>y[1291]</th>\n",
       "      <th>y[1292]</th>\n",
       "      <th>y[1293]</th>\n",
       "      <th>y[1294]</th>\n",
       "      <th>y[1295]</th>\n",
       "      <th>y[1296]</th>\n",
       "      <th>y[1297]</th>\n",
       "      <th>y[1298]</th>\n",
       "      <th>y[1299]</th>\n",
       "      <th>y[1300]</th>\n",
       "    </tr>\n",
       "  </thead>\n",
       "  <tbody>\n",
       "    <tr>\n",
       "      <th>0</th>\n",
       "      <td>0.264602</td>\n",
       "      <td>-0.024155</td>\n",
       "      <td>-0.78435</td>\n",
       "      <td>-1.74902</td>\n",
       "      <td>-1.29113</td>\n",
       "      <td>0.164387</td>\n",
       "      <td>-0.253011</td>\n",
       "      <td>0.38029</td>\n",
       "      <td>0.364704</td>\n",
       "      <td>-0.074319</td>\n",
       "      <td>...</td>\n",
       "      <td>-0.27021</td>\n",
       "      <td>1.31465</td>\n",
       "      <td>0.206146</td>\n",
       "      <td>-0.605663</td>\n",
       "      <td>-0.49761</td>\n",
       "      <td>1.46673</td>\n",
       "      <td>9.45623</td>\n",
       "      <td>1.51678</td>\n",
       "      <td>0.011568</td>\n",
       "      <td>-1.37937</td>\n",
       "    </tr>\n",
       "  </tbody>\n",
       "</table>\n",
       "<p>1 rows × 1300 columns</p>\n",
       "</div>"
      ],
      "text/plain": [
       "       y[1]      y[2]     y[3]     y[4]     y[5]      y[6]      y[7]     y[8]  \\\n",
       "0  0.264602 -0.024155 -0.78435 -1.74902 -1.29113  0.164387 -0.253011  0.38029   \n",
       "\n",
       "       y[9]     y[10]  ...  y[1291]  y[1292]   y[1293]   y[1294]  y[1295]  \\\n",
       "0  0.364704 -0.074319  ... -0.27021  1.31465  0.206146 -0.605663 -0.49761   \n",
       "\n",
       "   y[1296]  y[1297]  y[1298]   y[1299]  y[1300]  \n",
       "0  1.46673  9.45623  1.51678  0.011568 -1.37937  \n",
       "\n",
       "[1 rows x 1300 columns]"
      ]
     },
     "execution_count": 2,
     "metadata": {},
     "output_type": "execute_result"
    }
   ],
   "source": [
    "F = 7\n",
    "L = 6\n",
    "N = (L+F)*100\n",
    "\n",
    "model_data1=CmdStanModel(stan_file='code_1.stan')\n",
    "\n",
    "data1 = model_data1.sample(data={\"N\":N},\n",
    "                           iter_sampling=1,\n",
    "                           iter_warmup=0,\n",
    "                           chains=1,\n",
    "                           fixed_param=True,\n",
    "                           seed=26042023,\n",
    "                           )\n",
    "data1_pd = data1.draws_pd()\n",
    "data1_pd = data1_pd.iloc[:,3:]\n",
    "data1_pd.head()"
   ]
  },
  {
   "cell_type": "code",
   "execution_count": 3,
   "metadata": {},
   "outputs": [
    {
     "name": "stderr",
     "output_type": "stream",
     "text": [
      "INFO:cmdstanpy:found newer exe file, not recompiling\n",
      "INFO:cmdstanpy:CmdStan start processing\n",
      "chain 1 |\u001b[34m██████████\u001b[0m| 00:00 Sampling completed"
     ]
    },
    {
     "name": "stdout",
     "output_type": "stream",
     "text": [
      "                                                                                "
     ]
    },
    {
     "name": "stderr",
     "output_type": "stream",
     "text": [
      "\n",
      "INFO:cmdstanpy:CmdStan done processing.\n"
     ]
    },
    {
     "name": "stdout",
     "output_type": "stream",
     "text": [
      "\n"
     ]
    },
    {
     "data": {
      "text/html": [
       "<div>\n",
       "<style scoped>\n",
       "    .dataframe tbody tr th:only-of-type {\n",
       "        vertical-align: middle;\n",
       "    }\n",
       "\n",
       "    .dataframe tbody tr th {\n",
       "        vertical-align: top;\n",
       "    }\n",
       "\n",
       "    .dataframe thead th {\n",
       "        text-align: right;\n",
       "    }\n",
       "</style>\n",
       "<table border=\"1\" class=\"dataframe\">\n",
       "  <thead>\n",
       "    <tr style=\"text-align: right;\">\n",
       "      <th></th>\n",
       "      <th>lp__</th>\n",
       "      <th>accept_stat__</th>\n",
       "      <th>X[1,1]</th>\n",
       "      <th>X[2,1]</th>\n",
       "      <th>X[3,1]</th>\n",
       "      <th>X[4,1]</th>\n",
       "      <th>X[5,1]</th>\n",
       "      <th>X[6,1]</th>\n",
       "      <th>X[7,1]</th>\n",
       "      <th>X[8,1]</th>\n",
       "      <th>...</th>\n",
       "      <th>y[1291]</th>\n",
       "      <th>y[1292]</th>\n",
       "      <th>y[1293]</th>\n",
       "      <th>y[1294]</th>\n",
       "      <th>y[1295]</th>\n",
       "      <th>y[1296]</th>\n",
       "      <th>y[1297]</th>\n",
       "      <th>y[1298]</th>\n",
       "      <th>y[1299]</th>\n",
       "      <th>y[1300]</th>\n",
       "    </tr>\n",
       "  </thead>\n",
       "  <tbody>\n",
       "    <tr>\n",
       "      <th>0</th>\n",
       "      <td>0.0</td>\n",
       "      <td>0.0</td>\n",
       "      <td>0.264602</td>\n",
       "      <td>-0.697318</td>\n",
       "      <td>-0.199312</td>\n",
       "      <td>-0.766254</td>\n",
       "      <td>1.70363</td>\n",
       "      <td>-1.29113</td>\n",
       "      <td>0.047581</td>\n",
       "      <td>-1.41489</td>\n",
       "      <td>...</td>\n",
       "      <td>2.05828</td>\n",
       "      <td>-7.57974</td>\n",
       "      <td>2.74265</td>\n",
       "      <td>1.70965</td>\n",
       "      <td>1.13546</td>\n",
       "      <td>3.0942</td>\n",
       "      <td>0.867884</td>\n",
       "      <td>2.3081</td>\n",
       "      <td>1.78676</td>\n",
       "      <td>-2.01181</td>\n",
       "    </tr>\n",
       "  </tbody>\n",
       "</table>\n",
       "<p>1 rows × 5205 columns</p>\n",
       "</div>"
      ],
      "text/plain": [
       "   lp__  accept_stat__    X[1,1]    X[2,1]    X[3,1]    X[4,1]   X[5,1]  \\\n",
       "0   0.0            0.0  0.264602 -0.697318 -0.199312 -0.766254  1.70363   \n",
       "\n",
       "    X[6,1]    X[7,1]   X[8,1]  ...  y[1291]  y[1292]  y[1293]  y[1294]  \\\n",
       "0 -1.29113  0.047581 -1.41489  ...  2.05828 -7.57974  2.74265  1.70965   \n",
       "\n",
       "   y[1295]  y[1296]   y[1297]  y[1298]  y[1299]  y[1300]  \n",
       "0  1.13546   3.0942  0.867884   2.3081  1.78676 -2.01181  \n",
       "\n",
       "[1 rows x 5205 columns]"
      ]
     },
     "execution_count": 3,
     "metadata": {},
     "output_type": "execute_result"
    }
   ],
   "source": [
    "model_data2=CmdStanModel(stan_file='code_2.stan')\n",
    "\n",
    "data2 = model_data2.sample(data={\"N\":N},\n",
    "                           iter_sampling=1,\n",
    "                           iter_warmup=0,\n",
    "                           chains=1,\n",
    "                           fixed_param=True,\n",
    "                           seed=26042023,\n",
    "                           )\n",
    "data2_pd = data2.draws_pd()\n",
    "data2_pd.head()"
   ]
  },
  {
   "attachments": {},
   "cell_type": "markdown",
   "metadata": {},
   "source": [
    "### Comparison of above data for both models"
   ]
  },
  {
   "cell_type": "code",
   "execution_count": 4,
   "metadata": {},
   "outputs": [
    {
     "name": "stderr",
     "output_type": "stream",
     "text": [
      "INFO:cmdstanpy:found newer exe file, not recompiling\n",
      "INFO:cmdstanpy:CmdStan start processing\n",
      "chain 1 |\u001b[33m          \u001b[0m| 00:00 Status\n",
      "\u001b[A\n",
      "\n",
      "chain 1 |\u001b[33m█▎        \u001b[0m| 00:00 Iteration:  100 / 2000 [  5%]  (Warmup)\n",
      "\u001b[A\n",
      "\n",
      "chain 1 |\u001b[34m█████▉    \u001b[0m| 00:00 Iteration: 1001 / 2000 [ 50%]  (Sampling)\n",
      "chain 1 |\u001b[34m████████▏ \u001b[0m| 00:01 Iteration: 1500 / 2000 [ 75%]  (Sampling)\n",
      "\n",
      "chain 1 |\u001b[34m██████████\u001b[0m| 00:01 Sampling completed                       \n",
      "chain 2 |\u001b[34m██████████\u001b[0m| 00:01 Sampling completed                       \n",
      "chain 3 |\u001b[34m██████████\u001b[0m| 00:01 Sampling completed                       \n",
      "chain 4 |\u001b[34m██████████\u001b[0m| 00:01 Sampling completed                       "
     ]
    },
    {
     "name": "stdout",
     "output_type": "stream",
     "text": [
      "                                                                                                                                                                                                                                                                                                                                "
     ]
    },
    {
     "name": "stderr",
     "output_type": "stream",
     "text": [
      "\n",
      "INFO:cmdstanpy:CmdStan done processing.\n"
     ]
    },
    {
     "name": "stdout",
     "output_type": "stream",
     "text": [
      "\n"
     ]
    },
    {
     "name": "stderr",
     "output_type": "stream",
     "text": [
      "INFO:cmdstanpy:found newer exe file, not recompiling\n",
      "INFO:cmdstanpy:CmdStan start processing\n",
      "chain 1 |\u001b[33m          \u001b[0m| 00:00 Status\n",
      "\u001b[A\n",
      "\n",
      "chain 1 |\u001b[33m▉         \u001b[0m| 00:00 Iteration:    1 / 2000 [  0%]  (Warmup)\n",
      "\u001b[A\n",
      "\n",
      "chain 1 |\u001b[33m██▋       \u001b[0m| 00:00 Iteration:  400 / 2000 [ 20%]  (Warmup)\n",
      "\n",
      "\u001b[A\u001b[A\n",
      "chain 1 |\u001b[33m█████     \u001b[0m| 00:00 Iteration:  900 / 2000 [ 45%]  (Warmup)\n",
      "\u001b[A\n",
      "\n",
      "chain 1 |\u001b[34m██████▊   \u001b[0m| 00:01 Iteration: 1200 / 2000 [ 60%]  (Sampling)\n",
      "\u001b[A\n",
      "\n",
      "\u001b[A\u001b[A\n",
      "chain 1 |\u001b[34m████████▏ \u001b[0m| 00:01 Iteration: 1500 / 2000 [ 75%]  (Sampling)\n",
      "\n",
      "\u001b[A\u001b[A\n",
      "chain 1 |\u001b[34m█████████ \u001b[0m| 00:02 Iteration: 1700 / 2000 [ 85%]  (Sampling)\n",
      "\n",
      "\u001b[A\u001b[A\n",
      "\u001b[A\n",
      "\n",
      "\u001b[A\u001b[A\n",
      "chain 1 |\u001b[34m██████████\u001b[0m| 00:02 Iteration: 1900 / 2000 [ 95%]  (Sampling)\n",
      "\n",
      "chain 1 |\u001b[34m██████████\u001b[0m| 00:02 Sampling completed                       \n",
      "chain 2 |\u001b[34m██████████\u001b[0m| 00:02 Sampling completed                       \n",
      "chain 3 |\u001b[34m██████████\u001b[0m| 00:02 Sampling completed                       \n",
      "chain 4 |\u001b[34m██████████\u001b[0m| 00:02 Sampling completed                       "
     ]
    },
    {
     "name": "stdout",
     "output_type": "stream",
     "text": [
      "                                                                                                                                                                                                                                                                                                                                "
     ]
    },
    {
     "name": "stderr",
     "output_type": "stream",
     "text": [
      "\n",
      "INFO:cmdstanpy:CmdStan done processing.\n"
     ]
    },
    {
     "name": "stdout",
     "output_type": "stream",
     "text": [
      "\n"
     ]
    }
   ],
   "source": [
    "original_model=CmdStanModel(stan_file='code_3.stan')\n",
    "original_data1 = original_model.sample(data={\"N\":N, \"y\":data1_pd.iloc[0,:]},\n",
    "                           seed=26042023)\n",
    "\n",
    "student_model=CmdStanModel(stan_file='code_4.stan')\n",
    "student_data1 = student_model.sample(data={\"N\":N, \"y\":data1_pd.iloc[0,:]},\n",
    "                           seed=26042023)"
   ]
  },
  {
   "attachments": {},
   "cell_type": "markdown",
   "metadata": {},
   "source": [
    "#### Create arviz InferenceData"
   ]
  },
  {
   "cell_type": "code",
   "execution_count": 5,
   "metadata": {},
   "outputs": [],
   "source": [
    "original1_az = az.from_cmdstanpy(\n",
    "    posterior=original_data1,\n",
    ")\n",
    "student1_az = az.from_cmdstanpy(\n",
    "    posterior=student_data1,\n",
    ")"
   ]
  },
  {
   "attachments": {},
   "cell_type": "markdown",
   "metadata": {},
   "source": [
    "#### Comparison"
   ]
  },
  {
   "cell_type": "code",
   "execution_count": 6,
   "metadata": {},
   "outputs": [
    {
     "name": "stderr",
     "output_type": "stream",
     "text": [
      "/usr/local/lib/python3.9/site-packages/arviz/stats/stats.py:811: UserWarning: Estimated shape parameter of Pareto distribution is greater than 0.7 for one or more samples. You should consider using a more robust model, this is because importance sampling is less likely to work well if the marginal posterior and LOO posterior are very different. This is more likely to happen with a non-robust model and highly influential observations.\n",
      "  warnings.warn(\n"
     ]
    },
    {
     "data": {
      "text/html": [
       "<div>\n",
       "<style scoped>\n",
       "    .dataframe tbody tr th:only-of-type {\n",
       "        vertical-align: middle;\n",
       "    }\n",
       "\n",
       "    .dataframe tbody tr th {\n",
       "        vertical-align: top;\n",
       "    }\n",
       "\n",
       "    .dataframe thead th {\n",
       "        text-align: right;\n",
       "    }\n",
       "</style>\n",
       "<table border=\"1\" class=\"dataframe\">\n",
       "  <thead>\n",
       "    <tr style=\"text-align: right;\">\n",
       "      <th></th>\n",
       "      <th>rank</th>\n",
       "      <th>loo</th>\n",
       "      <th>p_loo</th>\n",
       "      <th>d_loo</th>\n",
       "      <th>weight</th>\n",
       "      <th>se</th>\n",
       "      <th>dse</th>\n",
       "      <th>warning</th>\n",
       "      <th>loo_scale</th>\n",
       "    </tr>\n",
       "  </thead>\n",
       "  <tbody>\n",
       "    <tr>\n",
       "      <th>student_1</th>\n",
       "      <td>0</td>\n",
       "      <td>-1964.633873</td>\n",
       "      <td>4.962786</td>\n",
       "      <td>0.000000</td>\n",
       "      <td>1.0</td>\n",
       "      <td>41.617132</td>\n",
       "      <td>0.000000</td>\n",
       "      <td>False</td>\n",
       "      <td>log</td>\n",
       "    </tr>\n",
       "    <tr>\n",
       "      <th>original_1</th>\n",
       "      <td>1</td>\n",
       "      <td>-2678.692694</td>\n",
       "      <td>63.459429</td>\n",
       "      <td>714.058821</td>\n",
       "      <td>0.0</td>\n",
       "      <td>219.462343</td>\n",
       "      <td>191.429659</td>\n",
       "      <td>True</td>\n",
       "      <td>log</td>\n",
       "    </tr>\n",
       "  </tbody>\n",
       "</table>\n",
       "</div>"
      ],
      "text/plain": [
       "            rank          loo      p_loo       d_loo  weight          se  \\\n",
       "student_1      0 -1964.633873   4.962786    0.000000     1.0   41.617132   \n",
       "original_1     1 -2678.692694  63.459429  714.058821     0.0  219.462343   \n",
       "\n",
       "                   dse  warning loo_scale  \n",
       "student_1     0.000000    False       log  \n",
       "original_1  191.429659     True       log  "
      ]
     },
     "metadata": {},
     "output_type": "display_data"
    },
    {
     "data": {
      "image/png": "[encoded data removed]",
      "text/plain": [
       "<Figure size 432x144 with 1 Axes>"
      ]
     },
     "metadata": {
      "needs_background": "light"
     },
     "output_type": "display_data"
    }
   ],
   "source": [
    "loo_diff = az.compare(compare_dict={\"original_1\": original1_az, \"student_1\": student1_az}, ic=\"loo\")\n",
    "display(loo_diff)\n",
    "\n",
    "ax = az.plot_compare(loo_diff)\n",
    "ax.set_title(\"Comparison of models with LOO criterion\")\n",
    "plt.show()"
   ]
  },
  {
   "cell_type": "code",
   "execution_count": 7,
   "metadata": {},
   "outputs": [
    {
     "name": "stderr",
     "output_type": "stream",
     "text": [
      "/usr/local/lib/python3.9/site-packages/arviz/stats/stats.py:1635: UserWarning: For one or more samples the posterior variance of the log predictive densities exceeds 0.4. This could be indication of WAIC starting to fail. \n",
      "See http://arxiv.org/abs/1507.04544 for details\n",
      "  warnings.warn(\n",
      "/usr/local/lib/python3.9/site-packages/arviz/stats/stats.py:1635: UserWarning: For one or more samples the posterior variance of the log predictive densities exceeds 0.4. This could be indication of WAIC starting to fail. \n",
      "See http://arxiv.org/abs/1507.04544 for details\n",
      "  warnings.warn(\n"
     ]
    },
    {
     "data": {
      "text/html": [
       "<div>\n",
       "<style scoped>\n",
       "    .dataframe tbody tr th:only-of-type {\n",
       "        vertical-align: middle;\n",
       "    }\n",
       "\n",
       "    .dataframe tbody tr th {\n",
       "        vertical-align: top;\n",
       "    }\n",
       "\n",
       "    .dataframe thead th {\n",
       "        text-align: right;\n",
       "    }\n",
       "</style>\n",
       "<table border=\"1\" class=\"dataframe\">\n",
       "  <thead>\n",
       "    <tr style=\"text-align: right;\">\n",
       "      <th></th>\n",
       "      <th>rank</th>\n",
       "      <th>waic</th>\n",
       "      <th>p_waic</th>\n",
       "      <th>d_waic</th>\n",
       "      <th>weight</th>\n",
       "      <th>se</th>\n",
       "      <th>dse</th>\n",
       "      <th>warning</th>\n",
       "      <th>waic_scale</th>\n",
       "    </tr>\n",
       "  </thead>\n",
       "  <tbody>\n",
       "    <tr>\n",
       "      <th>student_1</th>\n",
       "      <td>0</td>\n",
       "      <td>-1964.617928</td>\n",
       "      <td>4.946841</td>\n",
       "      <td>0.000000</td>\n",
       "      <td>1.0</td>\n",
       "      <td>41.612032</td>\n",
       "      <td>0.000000</td>\n",
       "      <td>True</td>\n",
       "      <td>log</td>\n",
       "    </tr>\n",
       "    <tr>\n",
       "      <th>original_1</th>\n",
       "      <td>1</td>\n",
       "      <td>-2675.235096</td>\n",
       "      <td>60.001830</td>\n",
       "      <td>710.617167</td>\n",
       "      <td>0.0</td>\n",
       "      <td>217.790120</td>\n",
       "      <td>189.766736</td>\n",
       "      <td>True</td>\n",
       "      <td>log</td>\n",
       "    </tr>\n",
       "  </tbody>\n",
       "</table>\n",
       "</div>"
      ],
      "text/plain": [
       "            rank         waic     p_waic      d_waic  weight          se  \\\n",
       "student_1      0 -1964.617928   4.946841    0.000000     1.0   41.612032   \n",
       "original_1     1 -2675.235096  60.001830  710.617167     0.0  217.790120   \n",
       "\n",
       "                   dse  warning waic_scale  \n",
       "student_1     0.000000     True        log  \n",
       "original_1  189.766736     True        log  "
      ]
     },
     "metadata": {},
     "output_type": "display_data"
    },
    {
     "data": {
      "text/plain": [
       "Text(0.5, 1.0, 'Comparison of models with WAIC criterion')"
      ]
     },
     "execution_count": 7,
     "metadata": {},
     "output_type": "execute_result"
    },
    {
     "data": {
      "image/png": "[encoded data removed]",
      "text/plain": [
       "<Figure size 432x144 with 1 Axes>"
      ]
     },
     "metadata": {
      "needs_background": "light"
     },
     "output_type": "display_data"
    }
   ],
   "source": [
    "waic_diff = az.compare(compare_dict={\"original_1\": original1_az, \"student_1\": student1_az}, ic=\"waic\")\n",
    "display(waic_diff)\n",
    "\n",
    "ax = az.plot_compare(waic_diff)\n",
    "ax.set_title(\"Comparison of models with WAIC criterion\")"
   ]
  },
  {
   "attachments": {},
   "cell_type": "markdown",
   "metadata": {},
   "source": [
    "Student model is better for predicting new data (smaller elpd values)."
   ]
  },
  {
   "attachments": {},
   "cell_type": "markdown",
   "metadata": {},
   "source": [
    "#### Comparison with different predictors"
   ]
  },
  {
   "cell_type": "code",
   "execution_count": 16,
   "metadata": {},
   "outputs": [
    {
     "name": "stderr",
     "output_type": "stream",
     "text": [
      "INFO:cmdstanpy:found newer exe file, not recompiling\n",
      "INFO:cmdstanpy:CmdStan start processing\n",
      "chain 1 |\u001b[33m          \u001b[0m| 00:00 Status\n",
      "\u001b[A\n",
      "\n",
      "\u001b[A\u001b[A\n",
      "chain 1 |\u001b[33m▍         \u001b[0m| 00:00 Status\n",
      "\n",
      "\u001b[A\u001b[A\n",
      "chain 1 |\u001b[33m███▏      \u001b[0m| 00:00 Iteration:  500 / 2000 [ 25%]  (Warmup)\n",
      "\n",
      "\u001b[A\u001b[A\n",
      "\n",
      "chain 1 |\u001b[34m█████▉    \u001b[0m| 00:00 Iteration: 1001 / 2000 [ 50%]  (Sampling)\n",
      "\u001b[A\n",
      "\n",
      "chain 1 |\u001b[34m███████▎  \u001b[0m| 00:01 Iteration: 1300 / 2000 [ 65%]  (Sampling)\n",
      "\u001b[A\n",
      "\n",
      "chain 1 |\u001b[34m████████▏ \u001b[0m| 00:02 Iteration: 1500 / 2000 [ 75%]  (Sampling)\n",
      "\u001b[A\n",
      "\n",
      "chain 1 |\u001b[34m█████████ \u001b[0m| 00:02 Iteration: 1700 / 2000 [ 85%]  (Sampling)\n",
      "\u001b[A\n",
      "\n",
      "chain 1 |\u001b[34m█████████▌\u001b[0m| 00:02 Iteration: 1800 / 2000 [ 90%]  (Sampling)\n",
      "\u001b[A\n",
      "\n",
      "chain 1 |\u001b[34m██████████\u001b[0m| 00:03 Iteration: 1900 / 2000 [ 95%]  (Sampling)\n",
      "chain 1 |\u001b[34m██████████\u001b[0m| 00:03 Sampling completed                       \n",
      "chain 2 |\u001b[34m██████████\u001b[0m| 00:03 Sampling completed                       \n",
      "chain 3 |\u001b[34m██████████\u001b[0m| 00:03 Sampling completed                       \n",
      "chain 4 |\u001b[34m██████████\u001b[0m| 00:03 Sampling completed                       "
     ]
    },
    {
     "name": "stdout",
     "output_type": "stream",
     "text": [
      "                                                                                                                                                                                                                                                                                                                                "
     ]
    },
    {
     "name": "stderr",
     "output_type": "stream",
     "text": [
      "\n",
      "INFO:cmdstanpy:CmdStan done processing.\n"
     ]
    },
    {
     "name": "stdout",
     "output_type": "stream",
     "text": [
      "\n"
     ]
    },
    {
     "name": "stderr",
     "output_type": "stream",
     "text": [
      "INFO:cmdstanpy:CmdStan start processing\n",
      "chain 1 |\u001b[33m          \u001b[0m| 00:00 Status\n",
      "\u001b[A\n",
      "\n",
      "chain 1 |\u001b[33m▍         \u001b[0m| 00:00 Status\n",
      "\n",
      "\u001b[A\u001b[A\n",
      "\u001b[A\n",
      "\n",
      "chain 1 |\u001b[33m██▎       \u001b[0m| 00:00 Iteration:  300 / 2000 [ 15%]  (Warmup)\n",
      "\u001b[A\n",
      "\n",
      "chain 1 |\u001b[33m█████     \u001b[0m| 00:00 Iteration:  900 / 2000 [ 45%]  (Warmup)\n",
      "\u001b[A\n",
      "\n",
      "chain 1 |\u001b[34m██████▊   \u001b[0m| 00:01 Iteration: 1200 / 2000 [ 60%]  (Sampling)\n",
      "\u001b[A\n",
      "\n",
      "\u001b[A\u001b[A\n",
      "\n",
      "chain 1 |\u001b[34m████████▏ \u001b[0m| 00:02 Iteration: 1500 / 2000 [ 75%]  (Sampling)\n",
      "\u001b[A\n",
      "\n",
      "\u001b[A\u001b[A\n",
      "chain 1 |\u001b[34m█████████ \u001b[0m| 00:02 Iteration: 1700 / 2000 [ 85%]  (Sampling)\n",
      "\n",
      "\u001b[A\u001b[A\n",
      "\n",
      "\u001b[A\u001b[A\n",
      "chain 1 |\u001b[34m██████████\u001b[0m| 00:03 Sampling completed                       \n",
      "chain 2 |\u001b[34m██████████\u001b[0m| 00:03 Sampling completed                       \n",
      "chain 3 |\u001b[34m██████████\u001b[0m| 00:03 Sampling completed                       \n",
      "chain 4 |\u001b[34m██████████\u001b[0m| 00:03 Sampling completed                       "
     ]
    },
    {
     "name": "stdout",
     "output_type": "stream",
     "text": [
      "                                                                                                                                                                                                                                                                                                                                "
     ]
    },
    {
     "name": "stderr",
     "output_type": "stream",
     "text": [
      "\n",
      "INFO:cmdstanpy:CmdStan done processing.\n"
     ]
    },
    {
     "name": "stdout",
     "output_type": "stream",
     "text": [
      "\n"
     ]
    },
    {
     "name": "stderr",
     "output_type": "stream",
     "text": [
      "INFO:cmdstanpy:CmdStan start processing\n",
      "chain 1 |\u001b[33m          \u001b[0m| 00:00 Status\n",
      "\u001b[A\n",
      "\n",
      "chain 1 |\u001b[33m▍         \u001b[0m| 00:00 Status\n",
      "\n",
      "\u001b[A\u001b[A\n",
      "\u001b[A\n",
      "\n",
      "chain 1 |\u001b[33m█▊        \u001b[0m| 00:00 Iteration:  200 / 2000 [ 10%]  (Warmup)\n",
      "\u001b[A\n",
      "\n",
      "chain 1 |\u001b[33m████      \u001b[0m| 00:00 Iteration:  700 / 2000 [ 35%]  (Warmup)\n",
      "chain 1 |\u001b[34m█████▉    \u001b[0m| 00:00 Iteration: 1001 / 2000 [ 50%]  (Sampling)\n",
      "\u001b[A\n",
      "\n",
      "chain 1 |\u001b[34m███████▎  \u001b[0m| 00:01 Iteration: 1300 / 2000 [ 65%]  (Sampling)\n",
      "\u001b[A\n",
      "\n",
      "chain 1 |\u001b[34m████████▏ \u001b[0m| 00:02 Iteration: 1500 / 2000 [ 75%]  (Sampling)\n",
      "\u001b[A\n",
      "\n",
      "chain 1 |\u001b[34m█████████ \u001b[0m| 00:02 Iteration: 1700 / 2000 [ 85%]  (Sampling)\n",
      "\u001b[A\n",
      "\n",
      "\u001b[A\u001b[A\n",
      "chain 1 |\u001b[34m█████████▌\u001b[0m| 00:03 Iteration: 1800 / 2000 [ 90%]  (Sampling)\n",
      "\n",
      "chain 1 |\u001b[34m██████████\u001b[0m| 00:03 Iteration: 1900 / 2000 [ 95%]  (Sampling)\n",
      "\u001b[A\n",
      "\n",
      "chain 1 |\u001b[34m██████████\u001b[0m| 00:03 Sampling completed                       \n",
      "chain 2 |\u001b[34m██████████\u001b[0m| 00:03 Sampling completed                       \n",
      "chain 3 |\u001b[34m██████████\u001b[0m| 00:03 Sampling completed                       \n",
      "chain 4 |\u001b[34m██████████\u001b[0m| 00:03 Sampling completed                       "
     ]
    },
    {
     "name": "stdout",
     "output_type": "stream",
     "text": [
      "                                                                                                                                                                                                                                                                                                                                "
     ]
    },
    {
     "name": "stderr",
     "output_type": "stream",
     "text": [
      "\n",
      "INFO:cmdstanpy:CmdStan done processing.\n"
     ]
    },
    {
     "name": "stdout",
     "output_type": "stream",
     "text": [
      "\n"
     ]
    }
   ],
   "source": [
    "model_predictors=CmdStanModel(stan_file='code_5.stan')\n",
    "\n",
    "predictors_1 = model_predictors.sample(data={\"N\":N, \"K\": 1, \"y\":np.array(data2_pd.iloc[:,3905:]).reshape(N), \"X\": np.array(data2_pd.iloc[:,2:1302]).reshape(N,1)},\n",
    "                           seed=26042023)\n",
    "predictors_2 = model_predictors.sample(data={\"N\":N, \"K\": 2, \"y\":np.array(data2_pd.iloc[:,3905:]).reshape(N), \"X\": np.array([data2_pd.iloc[:,2:1302], data2_pd.iloc[:,1302:2602]]).reshape(N,2)},\n",
    "                           seed=26042023)\n",
    "predictors_3 = model_predictors.sample(data={\"N\":N, \"K\": 3, \"y\":np.array(data2_pd.iloc[:,3905:]).reshape(N), \"X\": np.array([data2_pd.iloc[:,2:1302], data2_pd.iloc[:,1302:2602], data2_pd.iloc[:,2602:3902]]).reshape(N,3)},\n",
    "                           seed=26042023)"
   ]
  },
  {
   "cell_type": "code",
   "execution_count": 18,
   "metadata": {},
   "outputs": [
    {
     "data": {
      "text/html": [
       "<div>\n",
       "<style scoped>\n",
       "    .dataframe tbody tr th:only-of-type {\n",
       "        vertical-align: middle;\n",
       "    }\n",
       "\n",
       "    .dataframe tbody tr th {\n",
       "        vertical-align: top;\n",
       "    }\n",
       "\n",
       "    .dataframe thead th {\n",
       "        text-align: right;\n",
       "    }\n",
       "</style>\n",
       "<table border=\"1\" class=\"dataframe\">\n",
       "  <thead>\n",
       "    <tr style=\"text-align: right;\">\n",
       "      <th></th>\n",
       "      <th>rank</th>\n",
       "      <th>loo</th>\n",
       "      <th>p_loo</th>\n",
       "      <th>d_loo</th>\n",
       "      <th>weight</th>\n",
       "      <th>se</th>\n",
       "      <th>dse</th>\n",
       "      <th>warning</th>\n",
       "      <th>loo_scale</th>\n",
       "    </tr>\n",
       "  </thead>\n",
       "  <tbody>\n",
       "    <tr>\n",
       "      <th>one_prediction</th>\n",
       "      <td>0</td>\n",
       "      <td>-2334.447658</td>\n",
       "      <td>2.168677</td>\n",
       "      <td>0.000000</td>\n",
       "      <td>9.976081e-01</td>\n",
       "      <td>25.136437</td>\n",
       "      <td>0.000000</td>\n",
       "      <td>False</td>\n",
       "      <td>log</td>\n",
       "    </tr>\n",
       "    <tr>\n",
       "      <th>three_prediction</th>\n",
       "      <td>1</td>\n",
       "      <td>-3024.724270</td>\n",
       "      <td>3.961283</td>\n",
       "      <td>690.276612</td>\n",
       "      <td>2.391858e-03</td>\n",
       "      <td>25.133985</td>\n",
       "      <td>29.261235</td>\n",
       "      <td>False</td>\n",
       "      <td>log</td>\n",
       "    </tr>\n",
       "    <tr>\n",
       "      <th>two_prediction</th>\n",
       "      <td>2</td>\n",
       "      <td>-3027.093219</td>\n",
       "      <td>2.925377</td>\n",
       "      <td>692.645561</td>\n",
       "      <td>5.631939e-12</td>\n",
       "      <td>25.051107</td>\n",
       "      <td>29.164274</td>\n",
       "      <td>False</td>\n",
       "      <td>log</td>\n",
       "    </tr>\n",
       "  </tbody>\n",
       "</table>\n",
       "</div>"
      ],
      "text/plain": [
       "                  rank          loo     p_loo       d_loo        weight  \\\n",
       "one_prediction       0 -2334.447658  2.168677    0.000000  9.976081e-01   \n",
       "three_prediction     1 -3024.724270  3.961283  690.276612  2.391858e-03   \n",
       "two_prediction       2 -3027.093219  2.925377  692.645561  5.631939e-12   \n",
       "\n",
       "                         se        dse  warning loo_scale  \n",
       "one_prediction    25.136437   0.000000    False       log  \n",
       "three_prediction  25.133985  29.261235    False       log  \n",
       "two_prediction    25.051107  29.164274    False       log  "
      ]
     },
     "metadata": {},
     "output_type": "display_data"
    },
    {
     "data": {
      "image/png": "[encoded data removed]",
      "text/plain": [
       "<Figure size 432x216 with 1 Axes>"
      ]
     },
     "metadata": {
      "needs_background": "light"
     },
     "output_type": "display_data"
    }
   ],
   "source": [
    "compd_dict = {\"one_prediction\": az.from_cmdstanpy(posterior=predictors_1), \"two_prediction\": az.from_cmdstanpy(posterior=predictors_2), \"three_prediction\": az.from_cmdstanpy(posterior=predictors_3)}\n",
    "loo_preds = az.compare(compd_dict, ic=\"loo\")\n",
    "\n",
    "display(loo_preds)\n",
    "\n",
    "ax = az.plot_compare(loo_preds)\n",
    "ax.set_title(\"Comparison of model with LOO criterion - variable predictors number\")\n",
    "plt.show()"
   ]
  },
  {
   "cell_type": "code",
   "execution_count": 19,
   "metadata": {},
   "outputs": [
    {
     "data": {
      "text/html": [
       "<div>\n",
       "<style scoped>\n",
       "    .dataframe tbody tr th:only-of-type {\n",
       "        vertical-align: middle;\n",
       "    }\n",
       "\n",
       "    .dataframe tbody tr th {\n",
       "        vertical-align: top;\n",
       "    }\n",
       "\n",
       "    .dataframe thead th {\n",
       "        text-align: right;\n",
       "    }\n",
       "</style>\n",
       "<table border=\"1\" class=\"dataframe\">\n",
       "  <thead>\n",
       "    <tr style=\"text-align: right;\">\n",
       "      <th></th>\n",
       "      <th>rank</th>\n",
       "      <th>waic</th>\n",
       "      <th>p_waic</th>\n",
       "      <th>d_waic</th>\n",
       "      <th>weight</th>\n",
       "      <th>se</th>\n",
       "      <th>dse</th>\n",
       "      <th>warning</th>\n",
       "      <th>waic_scale</th>\n",
       "    </tr>\n",
       "  </thead>\n",
       "  <tbody>\n",
       "    <tr>\n",
       "      <th>one_prediction</th>\n",
       "      <td>0</td>\n",
       "      <td>-2334.447664</td>\n",
       "      <td>2.168683</td>\n",
       "      <td>0.000000</td>\n",
       "      <td>9.976080e-01</td>\n",
       "      <td>25.136445</td>\n",
       "      <td>0.000000</td>\n",
       "      <td>False</td>\n",
       "      <td>log</td>\n",
       "    </tr>\n",
       "    <tr>\n",
       "      <th>three_prediction</th>\n",
       "      <td>1</td>\n",
       "      <td>-3024.724310</td>\n",
       "      <td>3.961323</td>\n",
       "      <td>690.276646</td>\n",
       "      <td>2.392040e-03</td>\n",
       "      <td>25.133985</td>\n",
       "      <td>29.261250</td>\n",
       "      <td>False</td>\n",
       "      <td>log</td>\n",
       "    </tr>\n",
       "    <tr>\n",
       "      <th>two_prediction</th>\n",
       "      <td>2</td>\n",
       "      <td>-3027.092936</td>\n",
       "      <td>2.925095</td>\n",
       "      <td>692.645272</td>\n",
       "      <td>5.578871e-12</td>\n",
       "      <td>25.051069</td>\n",
       "      <td>29.164267</td>\n",
       "      <td>False</td>\n",
       "      <td>log</td>\n",
       "    </tr>\n",
       "  </tbody>\n",
       "</table>\n",
       "</div>"
      ],
      "text/plain": [
       "                  rank         waic    p_waic      d_waic        weight  \\\n",
       "one_prediction       0 -2334.447664  2.168683    0.000000  9.976080e-01   \n",
       "three_prediction     1 -3024.724310  3.961323  690.276646  2.392040e-03   \n",
       "two_prediction       2 -3027.092936  2.925095  692.645272  5.578871e-12   \n",
       "\n",
       "                         se        dse  warning waic_scale  \n",
       "one_prediction    25.136445   0.000000    False        log  \n",
       "three_prediction  25.133985  29.261250    False        log  \n",
       "two_prediction    25.051069  29.164267    False        log  "
      ]
     },
     "metadata": {},
     "output_type": "display_data"
    },
    {
     "data": {
      "text/plain": [
       "Text(0.5, 1.0, 'Comparison of model with WAIC criterion - variable predictors number')"
      ]
     },
     "execution_count": 19,
     "metadata": {},
     "output_type": "execute_result"
    },
    {
     "data": {
      "image/png": "[encoded data removed]",
      "text/plain": [
       "<Figure size 432x216 with 1 Axes>"
      ]
     },
     "metadata": {
      "needs_background": "light"
     },
     "output_type": "display_data"
    }
   ],
   "source": [
    "waic_preds = az.compare(compd_dict, ic=\"waic\")\n",
    "\n",
    "display(waic_preds)\n",
    "\n",
    "ax = az.plot_compare(waic_preds)\n",
    "ax.set_title(\"Comparison of model with WAIC criterion - variable predictors number\")\n",
    "plt.show()"
   ]
  },
  {
   "attachments": {},
   "cell_type": "markdown",
   "metadata": {},
   "source": [
    "Model gives the best result for one predictor. Results for two or three predictors are very similar."
   ]
  }
 ],
 "metadata": {
  "kernelspec": {
   "display_name": "Python 3",
   "language": "python",
   "name": "python3"
  },
  "language_info": {
   "codemirror_mode": {
    "name": "ipython",
    "version": 3
   },
   "file_extension": ".py",
   "mimetype": "text/x-python",
   "name": "python",
   "nbconvert_exporter": "python",
   "pygments_lexer": "ipython3",
   "version": "3.9.11"
  },
  "orig_nbformat": 4
 },
 "nbformat": 4,
 "nbformat_minor": 2
}
